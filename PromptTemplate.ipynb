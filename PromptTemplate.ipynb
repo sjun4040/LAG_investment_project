{
 "cells": [
  {
   "cell_type": "markdown",
   "id": "e90c51a8",
   "metadata": {},
   "source": [
    "# prompt template"
   ]
  },
  {
   "cell_type": "code",
   "execution_count": 3,
   "id": "0aa953d3",
   "metadata": {},
   "outputs": [
    {
     "data": {
      "text/plain": [
       "ChatOpenAI(client=<openai.resources.chat.completions.completions.Completions object at 0x000001A76EB1D610>, async_client=<openai.resources.chat.completions.completions.AsyncCompletions object at 0x000001A76EC7DEB0>, root_client=<openai.OpenAI object at 0x000001A76CAD8500>, root_async_client=<openai.AsyncOpenAI object at 0x000001A76EB1D640>, model_name='gpt-4.1-nano', model_kwargs={}, openai_api_key=SecretStr('**********'))"
      ]
     },
     "execution_count": 3,
     "metadata": {},
     "output_type": "execute_result"
    }
   ],
   "source": [
    "from langchain_openai import ChatOpenAI\n",
    "llm = ChatOpenAI(model='gpt-4.1-nano')\n",
    "llm"
   ]
  },
  {
   "cell_type": "code",
   "execution_count": 2,
   "id": "cd8f7e8c",
   "metadata": {},
   "outputs": [
    {
     "data": {
      "text/plain": [
       "'서울에서 유명한 맛집을 알려주세요'"
      ]
     },
     "execution_count": 2,
     "metadata": {},
     "output_type": "execute_result"
    }
   ],
   "source": [
    "from langchain.prompts import PromptTemplate\n",
    "template = PromptTemplate.from_template(\"{city}에서 {adj} {topic}을 알려주세요\")\n",
    "prompt = template.format(city='서울', adj='유명한', topic='맛집')\n",
    "prompt"
   ]
  },
  {
   "cell_type": "code",
   "execution_count": 4,
   "id": "8a21837a",
   "metadata": {},
   "outputs": [
    {
     "data": {
      "text/plain": [
       "AIMessage(content='서울에는 다양한 맛집이 많지만, 특히 유명하고 인기 있는 곳 몇 곳을 추천드릴게요:\\n\\n1. 광장시장 - 다양한 전통 한식과 길거리 음식이 가득한 곳으로, 빈대떡, 마약김밥 등이 유명합니다.\\n2. 깃펜 - 한우 스테이크와 와인으로 유명한 고급 레스토랑입니다.\\n3. 명동 교자 - 칼국수와 만두가 맛있는 대표적인 명동 맛집입니다.\\n4. 삼청동 골목 - 전통 한옥과 함께 소규모 카페와 맛집들이 많아 한식을 즐기기에 좋습니다.\\n5. 강남 압구정 동네 - 퓨전 한식, 세계 요리, 트렌디한 카페들이 많은 지역입니다.\\n6. 을지로 술집골목 - 다양한 주점과 술집에서 안주와 술을 즐기기 좋은 곳입니다.\\n7. 광장시장 근처의 육회집 - 신선한 육회와 함께 다양한 전통 한식을 맛볼 수 있습니다.\\n\\n이 외에도 서울에는 지역별로 특색 있는 맛집이 많으니, 방문하시기 전 최신 후기와 추천 정보를 참고하시는 것도 좋습니다!', additional_kwargs={'refusal': None}, response_metadata={'token_usage': {'completion_tokens': 269, 'prompt_tokens': 16, 'total_tokens': 285, 'completion_tokens_details': {'accepted_prediction_tokens': 0, 'audio_tokens': 0, 'reasoning_tokens': 0, 'rejected_prediction_tokens': 0}, 'prompt_tokens_details': {'audio_tokens': 0, 'cached_tokens': 0}}, 'model_name': 'gpt-4.1-nano-2025-04-14', 'system_fingerprint': 'fp_04d3664870', 'id': 'chatcmpl-CDLv2FnA3aTO4uB9MrR9vgotrJS6m', 'service_tier': 'default', 'finish_reason': 'stop', 'logprobs': None}, id='run--bf87f123-cd8a-4652-ad46-aa7f6873fabb-0', usage_metadata={'input_tokens': 16, 'output_tokens': 269, 'total_tokens': 285, 'input_token_details': {'audio': 0, 'cache_read': 0}, 'output_token_details': {'audio': 0, 'reasoning': 0}})"
      ]
     },
     "execution_count": 4,
     "metadata": {},
     "output_type": "execute_result"
    }
   ],
   "source": [
    "respnse = llm.invoke(prompt)\n",
    "respnse"
   ]
  },
  {
   "cell_type": "code",
   "execution_count": 5,
   "id": "8464fa7a",
   "metadata": {},
   "outputs": [
    {
     "data": {
      "text/plain": [
       "'서울에는 다양한 맛집이 많지만, 특히 유명하고 인기 있는 곳 몇 곳을 추천드릴게요:\\n\\n1. 광장시장 - 다양한 전통 한식과 길거리 음식이 가득한 곳으로, 빈대떡, 마약김밥 등이 유명합니다.\\n2. 깃펜 - 한우 스테이크와 와인으로 유명한 고급 레스토랑입니다.\\n3. 명동 교자 - 칼국수와 만두가 맛있는 대표적인 명동 맛집입니다.\\n4. 삼청동 골목 - 전통 한옥과 함께 소규모 카페와 맛집들이 많아 한식을 즐기기에 좋습니다.\\n5. 강남 압구정 동네 - 퓨전 한식, 세계 요리, 트렌디한 카페들이 많은 지역입니다.\\n6. 을지로 술집골목 - 다양한 주점과 술집에서 안주와 술을 즐기기 좋은 곳입니다.\\n7. 광장시장 근처의 육회집 - 신선한 육회와 함께 다양한 전통 한식을 맛볼 수 있습니다.\\n\\n이 외에도 서울에는 지역별로 특색 있는 맛집이 많으니, 방문하시기 전 최신 후기와 추천 정보를 참고하시는 것도 좋습니다!'"
      ]
     },
     "execution_count": 5,
     "metadata": {},
     "output_type": "execute_result"
    }
   ],
   "source": [
    "respnse.content"
   ]
  },
  {
   "cell_type": "code",
   "execution_count": 6,
   "id": "ee6be3bc",
   "metadata": {},
   "outputs": [],
   "source": [
    "# template save\n",
    "template.save('restaurent_tour_prompt.json')"
   ]
  },
  {
   "cell_type": "code",
   "execution_count": 7,
   "id": "32cca6c3",
   "metadata": {},
   "outputs": [
    {
     "data": {
      "text/plain": [
       "'부산에서 가장 멋진 수영장을 알려주세요'"
      ]
     },
     "execution_count": 7,
     "metadata": {},
     "output_type": "execute_result"
    }
   ],
   "source": [
    "from langchain.prompts import load_prompt\n",
    "temp_load = load_prompt('restaurent_tour_prompt.json')\n",
    "prompt = temp_load.format(city='부산',adj='가장 멋진',topic='수영장')\n",
    "prompt"
   ]
  },
  {
   "cell_type": "code",
   "execution_count": 8,
   "id": "7ced29e6",
   "metadata": {},
   "outputs": [
    {
     "data": {
      "text/plain": [
       "'부산에서 가장 멋진 수영장을 찾으신다면 여러 옵션이 있지만, 특히 추천드리고 싶은 곳은 다음과 같습니다:\\n\\n1. 파라다이스 호텔 부산 수영장\\n   - 특징: 오션뷰와 함께 도시 중심에 위치한 고급 호텔의 수영장으로, 실내·야외 모두 이용 가능하며 멋진 바다 전망을 즐기실 수 있습니다.\\n2. 파크 하얏트 부산 수영장\\n   - 특징: 현대적이고 세련된 인테리어와 함께 넓은 야외 수영장을 갖추고 있어 도시의 스카이라인과 바다 풍경이 조화를 이룹니다.\\n3. 해운대 그랜드 호텔 파노라마 수영장\\n   - 특징: 해운대 해변이 바로 앞에 위치한 이 호텔의 수영장은 멋진 해변 전망과 함께 휴양 분위기를 만끽하실 수 있습니다.\\n4. 더 베이 101 수영장\\n   - 특징: 해운대 해변 인근의 라이프스타일 공간으로, 수영장뿐만 아니라 다양한 휴식 시설과 전망이 뛰어난 곳입니다.\\n\\n각 장소는 예약이나 이용 조건이 있으니 방문 전에 자세한 정보를 확인하시는 것이 좋습니다. 부산의 아름다운 바다와 어우러진 멋진 수영장에서 특별한 시간을 보내시기 바랍니다!'"
      ]
     },
     "execution_count": 8,
     "metadata": {},
     "output_type": "execute_result"
    }
   ],
   "source": [
    "res = llm.invoke(prompt)\n",
    "res.content"
   ]
  },
  {
   "cell_type": "code",
   "execution_count": 10,
   "id": "56846b48",
   "metadata": {},
   "outputs": [
    {
     "data": {
      "text/plain": [
       "ChatPromptTemplate(input_variables=['place', 'question', 'travel', 'when'], input_types={}, partial_variables={}, messages=[SystemMessagePromptTemplate(prompt=PromptTemplate(input_variables=[], input_types={}, partial_variables={}, template='당신은 베테랑 여행 가이드입니다. 고객 맞춤 여행 일정 수립을 도와드립니다.'), additional_kwargs={}), HumanMessagePromptTemplate(prompt=PromptTemplate(input_variables=['place', 'travel', 'when'], input_types={}, partial_variables={}, template='{when}에 {place}로 {travel}을 계획중입니다.'), additional_kwargs={}), AIMessagePromptTemplate(prompt=PromptTemplate(input_variables=['place'], input_types={}, partial_variables={}, template='제가 {place}의 전문 여행 가이드입니다. 어떤 도움이 필요하신가요?'), additional_kwargs={}), HumanMessagePromptTemplate(prompt=PromptTemplate(input_variables=['question'], input_types={}, partial_variables={}, template='{question}'), additional_kwargs={})])"
      ]
     },
     "execution_count": 10,
     "metadata": {},
     "output_type": "execute_result"
    }
   ],
   "source": [
    "# ChatPromptTemplate\n",
    "from langchain.prompts import ChatPromptTemplate\n",
    "\n",
    "chat_template = ChatPromptTemplate.from_messages(\n",
    "    [\n",
    "        ('system','당신은 베테랑 여행 가이드입니다. 고객 맞춤 여행 일정 수립을 도와드립니다.'),\n",
    "        ('human', '{when}에 {place}로 {travel}을 계획중입니다.'),\n",
    "        ('ai','제가 {place}의 전문 여행 가이드입니다. 어떤 도움이 필요하신가요?'),\n",
    "        ('human','{question}')\n",
    "    ]\n",
    ")\n",
    "chat_template"
   ]
  },
  {
   "cell_type": "code",
   "execution_count": 11,
   "id": "7ba46ab6",
   "metadata": {},
   "outputs": [
    {
     "data": {
      "text/plain": [
       "[SystemMessage(content='당신은 베테랑 여행 가이드입니다. 고객 맞춤 여행 일정 수립을 도와드립니다.', additional_kwargs={}, response_metadata={}),\n",
       " HumanMessage(content='가을에 가평로 자유여행을 계획중입니다.', additional_kwargs={}, response_metadata={}),\n",
       " AIMessage(content='제가 가평의 전문 여행 가이드입니다. 어떤 도움이 필요하신가요?', additional_kwargs={}, response_metadata={}),\n",
       " HumanMessage(content='흥미로운 여행지 3곳 추천', additional_kwargs={}, response_metadata={})]"
      ]
     },
     "execution_count": 11,
     "metadata": {},
     "output_type": "execute_result"
    }
   ],
   "source": [
    "final_prompt = chat_template.format_messages(when='가을',place='가평',travel='자유여행',question='흥미로운 여행지 3곳 추천')\n",
    "final_prompt"
   ]
  },
  {
   "cell_type": "code",
   "execution_count": 13,
   "id": "a4d33a1d",
   "metadata": {},
   "outputs": [
    {
     "data": {
      "text/plain": [
       "AIMessage(content='가평은 자연과 레저를 즐기기에 최고의 곳입니다. 가을철에 방문하면 더욱 아름다운 풍경을 만끽하실 수 있어요. 흥미로운 여행지 3곳을 추천드리자면:\\n\\n1. **남이섬**  \\n가을이면 단풍이 아름답게 물들어 사진 찍기 딱 좋은 곳입니다. 자전거 또는 도보로 섬을 둘러보며 독특한 자연경관을 즐기실 수 있어요. 드라마나 영화 속 장면처럼 낭만적인 분위기를 만끽하실 수 있습니다.\\n\\n2. **자라섬 국제 재즈 페스티벌**  \\n가을에 열리는 자라섬의 재즈 페스티벌은 음악과 자연이 어우러진 특별한 경험입니다. 야외 공연장을 배경으로 다양한 재즈 공연을 감상하며 여유로운 시간을 보내보세요.\\n\\n3. **청평호 & 아침고요수목원**  \\n청평호 주변은 가을 낭만 가득한 풍경을 감상하며 산책하거나 낚시를 즐기기 좋습니다. 또한, 아침고요수목원은 가을철의 화려한 단풍과 다양한 식물들을 감상할 수 있어 자연 속 힐링을 원하시는 분께 추천드립니다.\\n\\n혹시 일정이나 특정 관심사에 맞춰 더 구체적인 제안을 원하시면 말씀해주세요!', additional_kwargs={'refusal': None}, response_metadata={'token_usage': {'completion_tokens': 314, 'prompt_tokens': 83, 'total_tokens': 397, 'completion_tokens_details': {'accepted_prediction_tokens': 0, 'audio_tokens': 0, 'reasoning_tokens': 0, 'rejected_prediction_tokens': 0}, 'prompt_tokens_details': {'audio_tokens': 0, 'cached_tokens': 0}}, 'model_name': 'gpt-4.1-nano-2025-04-14', 'system_fingerprint': 'fp_04d3664870', 'id': 'chatcmpl-CDM6BLkM605VBbF2uQ747k8j25Y2D', 'service_tier': 'default', 'finish_reason': 'stop', 'logprobs': None}, id='run--ca3eab7a-d314-41e6-aa1c-6bd89119281c-0', usage_metadata={'input_tokens': 83, 'output_tokens': 314, 'total_tokens': 397, 'input_token_details': {'audio': 0, 'cache_read': 0}, 'output_token_details': {'audio': 0, 'reasoning': 0}})"
      ]
     },
     "execution_count": 13,
     "metadata": {},
     "output_type": "execute_result"
    }
   ],
   "source": [
    "final_response = llm.invoke(final_prompt)\n",
    "final_response"
   ]
  },
  {
   "cell_type": "code",
   "execution_count": 14,
   "id": "870a06ba",
   "metadata": {},
   "outputs": [
    {
     "data": {
      "text/plain": [
       "'가평은 자연과 레저를 즐기기에 최고의 곳입니다. 가을철에 방문하면 더욱 아름다운 풍경을 만끽하실 수 있어요. 흥미로운 여행지 3곳을 추천드리자면:\\n\\n1. **남이섬**  \\n가을이면 단풍이 아름답게 물들어 사진 찍기 딱 좋은 곳입니다. 자전거 또는 도보로 섬을 둘러보며 독특한 자연경관을 즐기실 수 있어요. 드라마나 영화 속 장면처럼 낭만적인 분위기를 만끽하실 수 있습니다.\\n\\n2. **자라섬 국제 재즈 페스티벌**  \\n가을에 열리는 자라섬의 재즈 페스티벌은 음악과 자연이 어우러진 특별한 경험입니다. 야외 공연장을 배경으로 다양한 재즈 공연을 감상하며 여유로운 시간을 보내보세요.\\n\\n3. **청평호 & 아침고요수목원**  \\n청평호 주변은 가을 낭만 가득한 풍경을 감상하며 산책하거나 낚시를 즐기기 좋습니다. 또한, 아침고요수목원은 가을철의 화려한 단풍과 다양한 식물들을 감상할 수 있어 자연 속 힐링을 원하시는 분께 추천드립니다.\\n\\n혹시 일정이나 특정 관심사에 맞춰 더 구체적인 제안을 원하시면 말씀해주세요!'"
      ]
     },
     "execution_count": 14,
     "metadata": {},
     "output_type": "execute_result"
    }
   ],
   "source": [
    "final_response.content"
   ]
  },
  {
   "cell_type": "code",
   "execution_count": 15,
   "id": "39324b1e",
   "metadata": {},
   "outputs": [
    {
     "data": {
      "text/plain": [
       "'당신은 동남아 베테랑 여행 가이드입니다. 고객 맞춤 여행 일정 수립을 도와드립니다.10월에 동남아로 연인과 여행을 계획중입니다.'"
      ]
     },
     "execution_count": 15,
     "metadata": {},
     "output_type": "execute_result"
    }
   ],
   "source": [
    "prompt_1 = PromptTemplate.from_template('당신은 {place} 베테랑 여행 가이드입니다. 고객 맞춤 여행 일정 수립을 도와드립니다.')\n",
    "prompt_2 = PromptTemplate.from_template('{when}에 {place}로 {travel}을 계획중입니다.')\n",
    "\n",
    "concat_prompt = prompt_1+prompt_2\n",
    "concat_prompt.format(place='동남아', when='10월', travel='연인과 여행')"
   ]
  },
  {
   "cell_type": "code",
   "execution_count": null,
   "id": "19e17a8b",
   "metadata": {},
   "outputs": [],
   "source": []
  },
  {
   "cell_type": "code",
   "execution_count": null,
   "id": "0e0d6320",
   "metadata": {},
   "outputs": [],
   "source": []
  }
 ],
 "metadata": {
  "kernelspec": {
   "display_name": "prompting_env",
   "language": "python",
   "name": "python3"
  },
  "language_info": {
   "codemirror_mode": {
    "name": "ipython",
    "version": 3
   },
   "file_extension": ".py",
   "mimetype": "text/x-python",
   "name": "python",
   "nbconvert_exporter": "python",
   "pygments_lexer": "ipython3",
   "version": "3.12.11"
  }
 },
 "nbformat": 4,
 "nbformat_minor": 5
}
