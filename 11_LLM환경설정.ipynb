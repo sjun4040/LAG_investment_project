{
 "cells": [
  {
   "cell_type": "markdown",
   "id": "b1f21e9c",
   "metadata": {},
   "source": [
    "# openai\n",
    "# upstage\n",
    "# ollama"
   ]
  },
  {
   "cell_type": "code",
   "execution_count": null,
   "id": "edb0afd2",
   "metadata": {},
   "outputs": [
    {
     "name": "stdout",
     "output_type": "stream",
     "text": [
      "Collecting langchain-upstage\n",
      "  Downloading langchain_upstage-0.7.3-py3-none-any.whl.metadata (3.3 kB)\n",
      "Requirement already satisfied: langchain-core<0.4.0,>=0.3.29 in c:\\users\\admin\\miniconda3\\envs\\prompting_env\\lib\\site-packages (from langchain-upstage) (0.3.75)\n",
      "Requirement already satisfied: langchain-openai<0.4,>=0.3 in c:\\users\\admin\\miniconda3\\envs\\prompting_env\\lib\\site-packages (from langchain-upstage) (0.3.31)\n",
      "Collecting pypdf<5.0.0,>=4.2.0 (from langchain-upstage)\n",
      "  Downloading pypdf-4.3.1-py3-none-any.whl.metadata (7.4 kB)\n",
      "Requirement already satisfied: requests<3.0.0,>=2.31.0 in c:\\users\\admin\\miniconda3\\envs\\prompting_env\\lib\\site-packages (from langchain-upstage) (2.32.5)\n",
      "Collecting tokenizers<0.21.0,>=0.20.0 (from langchain-upstage)\n",
      "  Downloading tokenizers-0.20.3-cp312-none-win_amd64.whl.metadata (6.9 kB)\n",
      "Requirement already satisfied: langsmith>=0.3.45 in c:\\users\\admin\\miniconda3\\envs\\prompting_env\\lib\\site-packages (from langchain-core<0.4.0,>=0.3.29->langchain-upstage) (0.4.15)\n",
      "Requirement already satisfied: tenacity!=8.4.0,<10.0.0,>=8.1.0 in c:\\users\\admin\\miniconda3\\envs\\prompting_env\\lib\\site-packages (from langchain-core<0.4.0,>=0.3.29->langchain-upstage) (9.1.2)\n",
      "Requirement already satisfied: jsonpatch<2.0,>=1.33 in c:\\users\\admin\\miniconda3\\envs\\prompting_env\\lib\\site-packages (from langchain-core<0.4.0,>=0.3.29->langchain-upstage) (1.33)\n",
      "Requirement already satisfied: PyYAML>=5.3 in c:\\users\\admin\\miniconda3\\envs\\prompting_env\\lib\\site-packages (from langchain-core<0.4.0,>=0.3.29->langchain-upstage) (6.0.2)\n",
      "Requirement already satisfied: typing-extensions>=4.7 in c:\\users\\admin\\miniconda3\\envs\\prompting_env\\lib\\site-packages (from langchain-core<0.4.0,>=0.3.29->langchain-upstage) (4.14.1)\n",
      "Requirement already satisfied: packaging>=23.2 in c:\\users\\admin\\miniconda3\\envs\\prompting_env\\lib\\site-packages (from langchain-core<0.4.0,>=0.3.29->langchain-upstage) (25.0)\n",
      "Requirement already satisfied: pydantic>=2.7.4 in c:\\users\\admin\\miniconda3\\envs\\prompting_env\\lib\\site-packages (from langchain-core<0.4.0,>=0.3.29->langchain-upstage) (2.11.7)\n",
      "Requirement already satisfied: jsonpointer>=1.9 in c:\\users\\admin\\miniconda3\\envs\\prompting_env\\lib\\site-packages (from jsonpatch<2.0,>=1.33->langchain-core<0.4.0,>=0.3.29->langchain-upstage) (3.0.0)\n",
      "Requirement already satisfied: openai<2.0.0,>=1.99.9 in c:\\users\\admin\\miniconda3\\envs\\prompting_env\\lib\\site-packages (from langchain-openai<0.4,>=0.3->langchain-upstage) (1.101.0)\n",
      "Requirement already satisfied: tiktoken<1,>=0.7 in c:\\users\\admin\\miniconda3\\envs\\prompting_env\\lib\\site-packages (from langchain-openai<0.4,>=0.3->langchain-upstage) (0.11.0)\n",
      "Requirement already satisfied: anyio<5,>=3.5.0 in c:\\users\\admin\\miniconda3\\envs\\prompting_env\\lib\\site-packages (from openai<2.0.0,>=1.99.9->langchain-openai<0.4,>=0.3->langchain-upstage) (4.10.0)\n",
      "Requirement already satisfied: distro<2,>=1.7.0 in c:\\users\\admin\\miniconda3\\envs\\prompting_env\\lib\\site-packages (from openai<2.0.0,>=1.99.9->langchain-openai<0.4,>=0.3->langchain-upstage) (1.9.0)\n",
      "Requirement already satisfied: httpx<1,>=0.23.0 in c:\\users\\admin\\miniconda3\\envs\\prompting_env\\lib\\site-packages (from openai<2.0.0,>=1.99.9->langchain-openai<0.4,>=0.3->langchain-upstage) (0.28.1)\n",
      "Requirement already satisfied: jiter<1,>=0.4.0 in c:\\users\\admin\\miniconda3\\envs\\prompting_env\\lib\\site-packages (from openai<2.0.0,>=1.99.9->langchain-openai<0.4,>=0.3->langchain-upstage) (0.10.0)\n",
      "Requirement already satisfied: sniffio in c:\\users\\admin\\miniconda3\\envs\\prompting_env\\lib\\site-packages (from openai<2.0.0,>=1.99.9->langchain-openai<0.4,>=0.3->langchain-upstage) (1.3.1)\n",
      "Requirement already satisfied: tqdm>4 in c:\\users\\admin\\miniconda3\\envs\\prompting_env\\lib\\site-packages (from openai<2.0.0,>=1.99.9->langchain-openai<0.4,>=0.3->langchain-upstage) (4.67.1)\n",
      "Requirement already satisfied: idna>=2.8 in c:\\users\\admin\\miniconda3\\envs\\prompting_env\\lib\\site-packages (from anyio<5,>=3.5.0->openai<2.0.0,>=1.99.9->langchain-openai<0.4,>=0.3->langchain-upstage) (3.10)\n",
      "Requirement already satisfied: certifi in c:\\users\\admin\\miniconda3\\envs\\prompting_env\\lib\\site-packages (from httpx<1,>=0.23.0->openai<2.0.0,>=1.99.9->langchain-openai<0.4,>=0.3->langchain-upstage) (2025.8.3)\n",
      "Requirement already satisfied: httpcore==1.* in c:\\users\\admin\\miniconda3\\envs\\prompting_env\\lib\\site-packages (from httpx<1,>=0.23.0->openai<2.0.0,>=1.99.9->langchain-openai<0.4,>=0.3->langchain-upstage) (1.0.9)\n",
      "Requirement already satisfied: h11>=0.16 in c:\\users\\admin\\miniconda3\\envs\\prompting_env\\lib\\site-packages (from httpcore==1.*->httpx<1,>=0.23.0->openai<2.0.0,>=1.99.9->langchain-openai<0.4,>=0.3->langchain-upstage) (0.16.0)\n",
      "Requirement already satisfied: annotated-types>=0.6.0 in c:\\users\\admin\\miniconda3\\envs\\prompting_env\\lib\\site-packages (from pydantic>=2.7.4->langchain-core<0.4.0,>=0.3.29->langchain-upstage) (0.7.0)\n",
      "Requirement already satisfied: pydantic-core==2.33.2 in c:\\users\\admin\\miniconda3\\envs\\prompting_env\\lib\\site-packages (from pydantic>=2.7.4->langchain-core<0.4.0,>=0.3.29->langchain-upstage) (2.33.2)\n",
      "Requirement already satisfied: typing-inspection>=0.4.0 in c:\\users\\admin\\miniconda3\\envs\\prompting_env\\lib\\site-packages (from pydantic>=2.7.4->langchain-core<0.4.0,>=0.3.29->langchain-upstage) (0.4.1)\n",
      "Requirement already satisfied: charset_normalizer<4,>=2 in c:\\users\\admin\\miniconda3\\envs\\prompting_env\\lib\\site-packages (from requests<3.0.0,>=2.31.0->langchain-upstage) (3.4.3)\n",
      "Requirement already satisfied: urllib3<3,>=1.21.1 in c:\\users\\admin\\miniconda3\\envs\\prompting_env\\lib\\site-packages (from requests<3.0.0,>=2.31.0->langchain-upstage) (2.5.0)\n",
      "Requirement already satisfied: regex>=2022.1.18 in c:\\users\\admin\\miniconda3\\envs\\prompting_env\\lib\\site-packages (from tiktoken<1,>=0.7->langchain-openai<0.4,>=0.3->langchain-upstage) (2025.7.34)\n",
      "Collecting huggingface-hub<1.0,>=0.16.4 (from tokenizers<0.21.0,>=0.20.0->langchain-upstage)\n",
      "  Using cached huggingface_hub-0.34.4-py3-none-any.whl.metadata (14 kB)\n",
      "Collecting filelock (from huggingface-hub<1.0,>=0.16.4->tokenizers<0.21.0,>=0.20.0->langchain-upstage)\n",
      "  Using cached filelock-3.19.1-py3-none-any.whl.metadata (2.1 kB)\n",
      "Requirement already satisfied: fsspec>=2023.5.0 in c:\\users\\admin\\miniconda3\\envs\\prompting_env\\lib\\site-packages (from huggingface-hub<1.0,>=0.16.4->tokenizers<0.21.0,>=0.20.0->langchain-upstage) (2025.7.0)\n",
      "Requirement already satisfied: orjson>=3.9.14 in c:\\users\\admin\\miniconda3\\envs\\prompting_env\\lib\\site-packages (from langsmith>=0.3.45->langchain-core<0.4.0,>=0.3.29->langchain-upstage) (3.11.2)\n",
      "Requirement already satisfied: requests-toolbelt>=1.0.0 in c:\\users\\admin\\miniconda3\\envs\\prompting_env\\lib\\site-packages (from langsmith>=0.3.45->langchain-core<0.4.0,>=0.3.29->langchain-upstage) (1.0.0)\n",
      "Requirement already satisfied: zstandard>=0.23.0 in c:\\users\\admin\\miniconda3\\envs\\prompting_env\\lib\\site-packages (from langsmith>=0.3.45->langchain-core<0.4.0,>=0.3.29->langchain-upstage) (0.24.0)\n",
      "Requirement already satisfied: colorama in c:\\users\\admin\\miniconda3\\envs\\prompting_env\\lib\\site-packages (from tqdm>4->openai<2.0.0,>=1.99.9->langchain-openai<0.4,>=0.3->langchain-upstage) (0.4.6)\n",
      "Downloading langchain_upstage-0.7.3-py3-none-any.whl (25 kB)\n",
      "Downloading pypdf-4.3.1-py3-none-any.whl (295 kB)\n",
      "Downloading tokenizers-0.20.3-cp312-none-win_amd64.whl (2.4 MB)\n",
      "   ---------------------------------------- 0.0/2.4 MB ? eta -:--:--\n",
      "   ----------------- ---------------------- 1.0/2.4 MB 12.5 MB/s eta 0:00:01\n",
      "   ---------------------------------------- 2.4/2.4 MB 6.8 MB/s eta 0:00:00\n",
      "Using cached huggingface_hub-0.34.4-py3-none-any.whl (561 kB)\n",
      "Using cached filelock-3.19.1-py3-none-any.whl (15 kB)\n",
      "Installing collected packages: pypdf, filelock, huggingface-hub, tokenizers, langchain-upstage\n",
      "\n",
      "  Attempting uninstall: pypdf\n",
      "\n",
      "    Found existing installation: pypdf 6.0.0\n",
      "\n",
      "    Uninstalling pypdf-6.0.0:\n",
      "\n",
      "      Successfully uninstalled pypdf-6.0.0\n",
      "\n",
      "   ---------------------------------------- 0/5 [pypdf]\n",
      "   ---------------- ----------------------- 2/5 [huggingface-hub]\n",
      "   ---------------- ----------------------- 2/5 [huggingface-hub]\n",
      "   ---------------- ----------------------- 2/5 [huggingface-hub]\n",
      "   ---------------------------------------- 5/5 [langchain-upstage]\n",
      "\n",
      "Successfully installed filelock-3.19.1 huggingface-hub-0.34.4 langchain-upstage-0.7.3 pypdf-4.3.1 tokenizers-0.20.3\n"
     ]
    },
    {
     "name": "stderr",
     "output_type": "stream",
     "text": [
      "ERROR: pip's dependency resolver does not currently take into account all the packages that are installed. This behaviour is the source of the following dependency conflicts.\n",
      "llama-index-readers-file 0.5.2 requires pypdf<7,>=5.1.0, but you have pypdf 4.3.1 which is incompatible.\n"
     ]
    }
   ],
   "source": [
    "# !pip install langchain-upstage"
   ]
  },
  {
   "cell_type": "code",
   "execution_count": 3,
   "id": "80fe56f7",
   "metadata": {},
   "outputs": [
    {
     "name": "stdout",
     "output_type": "stream",
     "text": [
      "API Key configured: True\n"
     ]
    }
   ],
   "source": [
    "from dotenv import load_dotenv\n",
    "import os\n",
    "load_dotenv()\n",
    "openai_api_key = os.getenv('UPSTAGE_API_KEY')\n",
    "print(\"API Key configured:\", \"UPSTAGE_API_KEY\" in os.environ)"
   ]
  },
  {
   "cell_type": "code",
   "execution_count": 4,
   "id": "cc9c3479",
   "metadata": {},
   "outputs": [
    {
     "name": "stdout",
     "output_type": "stream",
     "text": [
      "content='안녕하세요! 저는 **Upstage**에서 개발한 **Solar Pro 2**입니다.  \\n30.9B 규모의 고성능 LLM으로, 복잡한 추론과 다국어 처리(한국어·일본어 등)에 최적화된 AI입니다.  \\n\\n간결하게 소개할게요! 😊' additional_kwargs={'refusal': None} response_metadata={'token_usage': {'completion_tokens': 57, 'prompt_tokens': 22, 'total_tokens': 79, 'completion_tokens_details': {'accepted_prediction_tokens': 0, 'audio_tokens': 0, 'reasoning_tokens': 0, 'rejected_prediction_tokens': 0}, 'prompt_tokens_details': {'audio_tokens': 0, 'cached_tokens': 0}}, 'model_name': 'solar-pro2-250710', 'system_fingerprint': None, 'id': '28d39086-7fa6-4455-9258-5cbfe4c5577b', 'service_tier': None, 'finish_reason': 'stop', 'logprobs': None} id='run--fb8a5a9e-ca0d-4464-a840-373bdd019a60-0' usage_metadata={'input_tokens': 22, 'output_tokens': 57, 'total_tokens': 79, 'input_token_details': {'audio': 0, 'cache_read': 0}, 'output_token_details': {'audio': 0, 'reasoning': 0}}\n"
     ]
    }
   ],
   "source": [
    "# pip install -qU langchain-core langchain-upstage\n",
    " \n",
    "from langchain_upstage import ChatUpstage\n",
    "from langchain_core.messages import HumanMessage\n",
    " \n",
    "chat = ChatUpstage(api_key=os.getenv('UPSTAGE_API_KEY'), model=\"solar-pro2\")\n",
    " \n",
    "messages = [\n",
    "    HumanMessage(\n",
    "        content=\"안녕? 네 소개를 2줄로 작성해\"\n",
    "    )\n",
    "]\n",
    " \n",
    "response = chat.invoke(messages)\n",
    "print(response)"
   ]
  },
  {
   "cell_type": "code",
   "execution_count": 5,
   "id": "3892284b",
   "metadata": {},
   "outputs": [
    {
     "name": "stderr",
     "output_type": "stream",
     "text": [
      "C:\\Users\\Admin\\AppData\\Local\\Temp\\ipykernel_7504\\3721171275.py:2: LangChainDeprecationWarning: The class `ChatOllama` was deprecated in LangChain 0.3.1 and will be removed in 1.0.0. An updated version of the class exists in the :class:`~langchain-ollama package and should be used instead. To use it run `pip install -U :class:`~langchain-ollama` and import as `from :class:`~langchain_ollama import ChatOllama``.\n",
      "  llm_ollama = ChatOllama(model='gemma2')\n"
     ]
    },
    {
     "data": {
      "text/plain": [
       "'저는 Google에서 훈련된 대규모 언어 모델입니다.\\n\\n텍스트를 이해하고 생성하는 데 능숙하며, 다양한 질문에 답변하고 창의적인 콘텐츠를 만들 수 있습니다.'"
      ]
     },
     "execution_count": 5,
     "metadata": {},
     "output_type": "execute_result"
    }
   ],
   "source": [
    "from langchain_community.chat_models import ChatOllama\n",
    "llm_ollama = ChatOllama(model='gemma2')\n",
    "response = llm_ollama.invoke('안녕? 네 소개를 2줄로 작성해')\n",
    "response.content"
   ]
  },
  {
   "cell_type": "code",
   "execution_count": null,
   "id": "069c5a2b",
   "metadata": {},
   "outputs": [],
   "source": []
  }
 ],
 "metadata": {
  "kernelspec": {
   "display_name": "prompting_env",
   "language": "python",
   "name": "python3"
  },
  "language_info": {
   "codemirror_mode": {
    "name": "ipython",
    "version": 3
   },
   "file_extension": ".py",
   "mimetype": "text/x-python",
   "name": "python",
   "nbconvert_exporter": "python",
   "pygments_lexer": "ipython3",
   "version": "3.12.11"
  }
 },
 "nbformat": 4,
 "nbformat_minor": 5
}
